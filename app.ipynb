{
 "cells": [
  {
   "cell_type": "code",
   "execution_count": 140,
   "metadata": {},
   "outputs": [],
   "source": [
    "import tweepy \n",
    "import config\n",
    "import pandas as pd\n",
    "import tweepy\n",
    "import re\n",
    "import spacy\n",
    "from nltk.tokenize import word_tokenize\n",
    "from nltk.corpus import stopwords\n",
    "from textblob import TextBlob"
   ]
  },
  {
   "cell_type": "markdown",
   "metadata": {},
   "source": [
    "# 1 - Collect des tweets"
   ]
  },
  {
   "cell_type": "code",
   "execution_count": null,
   "metadata": {},
   "outputs": [],
   "source": [
    "client = tweepy.Client(bearer_token=config.api_key)\n",
    "\n",
    "# Search query with keywords and language filter\n",
    "query = \"#F1 redbull (lang:fr OR lang:en) -is:retweet -is:reply\" \n",
    "max_results = 10  \n",
    "\n",
    "tweets = client.search_recent_tweets(query=query, tweet_fields=['text'], max_results=max_results)\n",
    "\n",
    "# Tweets conversion in Pandas DataFrame\n",
    "tweet_data = []\n",
    "for tweet in tweets.data:\n",
    "    tweet_data.append({\n",
    "        \"text\": tweet.text\n",
    "    })\n",
    "df = pd.DataFrame(tweet_data)\n",
    "\n",
    "# Saving the DataFrame as a CSV file\n",
    "df.to_csv(\"data/tweets.csv\", index=False)\n",
    "print(\"Données enregistrées dans tweets.csv\")"
   ]
  },
  {
   "cell_type": "code",
   "execution_count": 146,
   "metadata": {},
   "outputs": [],
   "source": [
    "path = 'data/'\n",
    "df = pd.read_csv(path + 'tweets.csv')\n",
    "pd.set_option(\"max_colwidth\", None)"
   ]
  },
  {
   "cell_type": "code",
   "execution_count": 147,
   "metadata": {},
   "outputs": [
    {
     "data": {
      "text/html": [
       "<div>\n",
       "<style scoped>\n",
       "    .dataframe tbody tr th:only-of-type {\n",
       "        vertical-align: middle;\n",
       "    }\n",
       "\n",
       "    .dataframe tbody tr th {\n",
       "        vertical-align: top;\n",
       "    }\n",
       "\n",
       "    .dataframe thead th {\n",
       "        text-align: right;\n",
       "    }\n",
       "</style>\n",
       "<table border=\"1\" class=\"dataframe\">\n",
       "  <thead>\n",
       "    <tr style=\"text-align: right;\">\n",
       "      <th></th>\n",
       "      <th>text</th>\n",
       "    </tr>\n",
       "  </thead>\n",
       "  <tbody>\n",
       "    <tr>\n",
       "      <th>0</th>\n",
       "      <td>Formula 1 is bringing the heat to Miami Grand Prix 🔥\\n\\n🏎️ Can Max Verstappen win again?\\n🏎️ Will the new upgrades for McLaren and Mercedes work?\\n\\nRead our insights OUT NOW!\\n\\n#F1 #Formula1 #RedBull #Ferrari #CL16 #LewisHamilton #LandoNorris #MiamiGP\\n\\nhttps://t.co/tNar0iwflY</td>\n",
       "    </tr>\n",
       "    <tr>\n",
       "      <th>1</th>\n",
       "      <td>Formula 1 is bringing the heat to Miami Grand Prix 🔥\\n\\nRead our insights and predictions OUT NOW! 🏎️\\n\\n#F1 #Formula1 #RedBull #MaxVerstappen #Ferrari #CL16 #Mercedes #LewisHamilton #McLaren #LandoNorris #MiamiGP\\n\\nhttps://t.co/ZsuTm6aT5J</td>\n",
       "    </tr>\n",
       "    <tr>\n",
       "      <th>2</th>\n",
       "      <td>The Miami Grand Prix is almost here and all teams are getting ready for a Sprint Weekend 🏎️🔥\\n\\nRead our insights for this weeks Formula 1 race \\n\\n#F1 #Formula1 #RedBull #MaxVerstappen #Ferrari #CL16 #Mercedes #LewisHamilton #McLaren #LandoNorris #MiamiGP\\n\\nhttps://t.co/39MnA80P6v</td>\n",
       "    </tr>\n",
       "    <tr>\n",
       "      <th>3</th>\n",
       "      <td>The Miami Grand Prix is almost here and all teams are getting ready for a Sprint Weekend 🏎️🔥\\n\\nRead our insights for this weeks Formula 1 race \\n\\n#F1 #Formula1 #RedBull #MaxVerstappen #Ferrari #CL16 #Mercedes #LewisHamilton #McLaren #LandoNorris #MiamiGP\\n\\nhttps://t.co/gfXIdIJ1AB</td>\n",
       "    </tr>\n",
       "    <tr>\n",
       "      <th>4</th>\n",
       "      <td>🎙️#Perez: “We're having a tremendous s eason again. The future looks bright. The #RedBull organization remains strong”    \\n\\n(#F1 press conference)     \\n\\n#MiamiGP https://t.co/h7atbf6sTv</td>\n",
       "    </tr>\n",
       "    <tr>\n",
       "      <th>5</th>\n",
       "      <td>🎙️#Perez: “#Newey? It isn't ideal when someone like Adrian leaves. He spent 20 years at #RedBull, he probably he wants to do something else. Red Bull has a very strong organiziation. It isn't down to one individual. #Horner is ready”    \\n\\n(#F1 press conference)     \\n\\n#MiamiGP https://t.co/t8c5Ltl6Oc</td>\n",
       "    </tr>\n",
       "    <tr>\n",
       "      <th>6</th>\n",
       "      <td>#F1 2016, #RedBull TAG Heuer RB12 V6-Turbo, Max Verstappen. The beginning of something special #MiamiGP https://t.co/toAxZecQJ5</td>\n",
       "    </tr>\n",
       "    <tr>\n",
       "      <th>7</th>\n",
       "      <td>Here we go #F1 #AdrianNewey #RedBull\\n\\nhttps://t.co/X8w2kwuGlE</td>\n",
       "    </tr>\n",
       "    <tr>\n",
       "      <th>8</th>\n",
       "      <td>Here are the different RW configurations brought by the teams. \\n\\n#Ferrari It remains with the same configuration, it will be worth seeing the incidence of BW! \\n\\n#RedBull Excellent efficiency of DRS + little drag \\n\\n(📸 @AlbertFabrega)\\n#f1 #formula1 #MiamiGP https://t.co/7sVMxeBFEa</td>\n",
       "    </tr>\n",
       "    <tr>\n",
       "      <th>9</th>\n",
       "      <td>Max Verstappen chez Mercedes !!!\\n\\nDes sources autrichiennes affirment que l' équipe Mercedes  préparerai une Offre\\nde 128 millions de livres sterling par an .\\nPrès de 150M€… \\nà la suite  sur Fb F1access\\n#maxverstappen #F1 #RedBull #MercedesBenz #MiamiGP https://t.co/L0NaFJQDVa</td>\n",
       "    </tr>\n",
       "  </tbody>\n",
       "</table>\n",
       "</div>"
      ],
      "text/plain": [
       "                                                                                                                                                                                                                                                                                                               text\n",
       "0                          Formula 1 is bringing the heat to Miami Grand Prix 🔥\\n\\n🏎️ Can Max Verstappen win again?\\n🏎️ Will the new upgrades for McLaren and Mercedes work?\\n\\nRead our insights OUT NOW!\\n\\n#F1 #Formula1 #RedBull #Ferrari #CL16 #LewisHamilton #LandoNorris #MiamiGP\\n\\nhttps://t.co/tNar0iwflY\n",
       "1                                                                  Formula 1 is bringing the heat to Miami Grand Prix 🔥\\n\\nRead our insights and predictions OUT NOW! 🏎️\\n\\n#F1 #Formula1 #RedBull #MaxVerstappen #Ferrari #CL16 #Mercedes #LewisHamilton #McLaren #LandoNorris #MiamiGP\\n\\nhttps://t.co/ZsuTm6aT5J\n",
       "2                       The Miami Grand Prix is almost here and all teams are getting ready for a Sprint Weekend 🏎️🔥\\n\\nRead our insights for this weeks Formula 1 race \\n\\n#F1 #Formula1 #RedBull #MaxVerstappen #Ferrari #CL16 #Mercedes #LewisHamilton #McLaren #LandoNorris #MiamiGP\\n\\nhttps://t.co/39MnA80P6v\n",
       "3                       The Miami Grand Prix is almost here and all teams are getting ready for a Sprint Weekend 🏎️🔥\\n\\nRead our insights for this weeks Formula 1 race \\n\\n#F1 #Formula1 #RedBull #MaxVerstappen #Ferrari #CL16 #Mercedes #LewisHamilton #McLaren #LandoNorris #MiamiGP\\n\\nhttps://t.co/gfXIdIJ1AB\n",
       "4                                                                                                                     🎙️#Perez: “We're having a tremendous s eason again. The future looks bright. The #RedBull organization remains strong”    \\n\\n(#F1 press conference)     \\n\\n#MiamiGP https://t.co/h7atbf6sTv\n",
       "5  🎙️#Perez: “#Newey? It isn't ideal when someone like Adrian leaves. He spent 20 years at #RedBull, he probably he wants to do something else. Red Bull has a very strong organiziation. It isn't down to one individual. #Horner is ready”    \\n\\n(#F1 press conference)     \\n\\n#MiamiGP https://t.co/t8c5Ltl6Oc\n",
       "6                                                                                                                                                                                   #F1 2016, #RedBull TAG Heuer RB12 V6-Turbo, Max Verstappen. The beginning of something special #MiamiGP https://t.co/toAxZecQJ5\n",
       "7                                                                                                                                                                                                                                                   Here we go #F1 #AdrianNewey #RedBull\\n\\nhttps://t.co/X8w2kwuGlE\n",
       "8                    Here are the different RW configurations brought by the teams. \\n\\n#Ferrari It remains with the same configuration, it will be worth seeing the incidence of BW! \\n\\n#RedBull Excellent efficiency of DRS + little drag \\n\\n(📸 @AlbertFabrega)\\n#f1 #formula1 #MiamiGP https://t.co/7sVMxeBFEa\n",
       "9                       Max Verstappen chez Mercedes !!!\\n\\nDes sources autrichiennes affirment que l' équipe Mercedes  préparerai une Offre\\nde 128 millions de livres sterling par an .\\nPrès de 150M€… \\nà la suite  sur Fb F1access\\n#maxverstappen #F1 #RedBull #MercedesBenz #MiamiGP https://t.co/L0NaFJQDVa"
      ]
     },
     "execution_count": 147,
     "metadata": {},
     "output_type": "execute_result"
    }
   ],
   "source": [
    "df.head(10)"
   ]
  },
  {
   "cell_type": "markdown",
   "metadata": {},
   "source": [
    "# 2 - Nettoyage des tweets"
   ]
  },
  {
   "cell_type": "markdown",
   "metadata": {},
   "source": [
    "## 2.1 Fonctions"
   ]
  },
  {
   "cell_type": "code",
   "execution_count": 148,
   "metadata": {},
   "outputs": [],
   "source": [
    "# NETTOYAGE DES TWEETS\n",
    "def clean_tweet(tweet):\n",
    "    \"\"\"\n",
    "    Nettoie un tweet en supprimant les URL, les mentions, les hashtags et les caractères spéciaux.\n",
    "    \"\"\"\n",
    "    # Supprimer les URL\n",
    "    tweet = re.sub(r'http\\S+', '', tweet)  \n",
    "    # Supprimer les mentions\n",
    "    tweet = re.sub(r'@\\w+', '', tweet)     \n",
    "    # Supprimer les hashtags\n",
    "    tweet = re.sub(r'#\\w+', '', tweet)     \n",
    "    # Supprimer les caractères spéciaux\n",
    "    tweet = re.sub(r\"[^a-zA-Z0-9À-ÿ\\s]\", \"\", tweet)\n",
    "    return tweet.strip()\n",
    "\n",
    "def lower_start_fct(tweet) :\n",
    "    return tweet.lower()\n",
    "\n",
    "def lemma_fct(tweet):\n",
    "    \"\"\"\n",
    "    Lemmatise les mots d'un tweet en utilisant le lemmatiseur de spaCy.\n",
    "    \"\"\"\n",
    "    nlp = spacy.load(\"en_core_web_sm\")\n",
    "    doc = nlp(tweet)\n",
    "    return ' '.join([token.lemma_ for token in doc])\n",
    "\n",
    "# TOKENISATION\n",
    "def tokenize_tweet(tweet):\n",
    "    return word_tokenize(tweet)\n",
    "\n",
    "# FILTRAGE\n",
    "# Filtrage des stop-words : mots inutiles\n",
    "def remove_stopwords(tokens):\n",
    "    \"\"\"\n",
    "    Supprime du tweet tous les stop-words.\n",
    "    \"\"\"\n",
    "    stop_words = stopwords.words('french') + stopwords.words('english')\n",
    "    filtered_tweets = []\n",
    "    for token in tokens:\n",
    "        if token not in stop_words:\n",
    "            filtered_tweets.append(token)\n",
    "    return filtered_tweets"
   ]
  },
  {
   "cell_type": "markdown",
   "metadata": {},
   "source": [
    "## 2.2 - Test du nettoyage, de la tokenization et du filtrage"
   ]
  },
  {
   "cell_type": "markdown",
   "metadata": {},
   "source": [
    "### 2.2.1 - Nettoyage"
   ]
  },
  {
   "cell_type": "code",
   "execution_count": 149,
   "metadata": {},
   "outputs": [
    {
     "data": {
      "text/html": [
       "<div>\n",
       "<style scoped>\n",
       "    .dataframe tbody tr th:only-of-type {\n",
       "        vertical-align: middle;\n",
       "    }\n",
       "\n",
       "    .dataframe tbody tr th {\n",
       "        vertical-align: top;\n",
       "    }\n",
       "\n",
       "    .dataframe thead th {\n",
       "        text-align: right;\n",
       "    }\n",
       "</style>\n",
       "<table border=\"1\" class=\"dataframe\">\n",
       "  <thead>\n",
       "    <tr style=\"text-align: right;\">\n",
       "      <th></th>\n",
       "      <th>text</th>\n",
       "      <th>text_cleaned</th>\n",
       "    </tr>\n",
       "  </thead>\n",
       "  <tbody>\n",
       "    <tr>\n",
       "      <th>0</th>\n",
       "      <td>Formula 1 is bringing the heat to Miami Grand Prix 🔥\\n\\n🏎️ Can Max Verstappen win again?\\n🏎️ Will the new upgrades for McLaren and Mercedes work?\\n\\nRead our insights OUT NOW!\\n\\n#F1 #Formula1 #RedBull #Ferrari #CL16 #LewisHamilton #LandoNorris #MiamiGP\\n\\nhttps://t.co/tNar0iwflY</td>\n",
       "      <td>formula 1 is bringing the heat to miami grand prix \\n\\n can max verstappen win again\\n will the new upgrades for mclaren and mercedes work\\n\\nread our insights out now</td>\n",
       "    </tr>\n",
       "    <tr>\n",
       "      <th>1</th>\n",
       "      <td>Formula 1 is bringing the heat to Miami Grand Prix 🔥\\n\\nRead our insights and predictions OUT NOW! 🏎️\\n\\n#F1 #Formula1 #RedBull #MaxVerstappen #Ferrari #CL16 #Mercedes #LewisHamilton #McLaren #LandoNorris #MiamiGP\\n\\nhttps://t.co/ZsuTm6aT5J</td>\n",
       "      <td>formula 1 is bringing the heat to miami grand prix \\n\\nread our insights and predictions out now</td>\n",
       "    </tr>\n",
       "    <tr>\n",
       "      <th>2</th>\n",
       "      <td>The Miami Grand Prix is almost here and all teams are getting ready for a Sprint Weekend 🏎️🔥\\n\\nRead our insights for this weeks Formula 1 race \\n\\n#F1 #Formula1 #RedBull #MaxVerstappen #Ferrari #CL16 #Mercedes #LewisHamilton #McLaren #LandoNorris #MiamiGP\\n\\nhttps://t.co/39MnA80P6v</td>\n",
       "      <td>the miami grand prix is almost here and all teams are getting ready for a sprint weekend \\n\\nread our insights for this weeks formula 1 race</td>\n",
       "    </tr>\n",
       "    <tr>\n",
       "      <th>3</th>\n",
       "      <td>The Miami Grand Prix is almost here and all teams are getting ready for a Sprint Weekend 🏎️🔥\\n\\nRead our insights for this weeks Formula 1 race \\n\\n#F1 #Formula1 #RedBull #MaxVerstappen #Ferrari #CL16 #Mercedes #LewisHamilton #McLaren #LandoNorris #MiamiGP\\n\\nhttps://t.co/gfXIdIJ1AB</td>\n",
       "      <td>the miami grand prix is almost here and all teams are getting ready for a sprint weekend \\n\\nread our insights for this weeks formula 1 race</td>\n",
       "    </tr>\n",
       "    <tr>\n",
       "      <th>4</th>\n",
       "      <td>🎙️#Perez: “We're having a tremendous s eason again. The future looks bright. The #RedBull organization remains strong”    \\n\\n(#F1 press conference)     \\n\\n#MiamiGP https://t.co/h7atbf6sTv</td>\n",
       "      <td>were having a tremendous s eason again the future looks bright the  organization remains strong    \\n\\n press conference</td>\n",
       "    </tr>\n",
       "  </tbody>\n",
       "</table>\n",
       "</div>"
      ],
      "text/plain": [
       "                                                                                                                                                                                                                                                                                          text  \\\n",
       "0     Formula 1 is bringing the heat to Miami Grand Prix 🔥\\n\\n🏎️ Can Max Verstappen win again?\\n🏎️ Will the new upgrades for McLaren and Mercedes work?\\n\\nRead our insights OUT NOW!\\n\\n#F1 #Formula1 #RedBull #Ferrari #CL16 #LewisHamilton #LandoNorris #MiamiGP\\n\\nhttps://t.co/tNar0iwflY   \n",
       "1                                             Formula 1 is bringing the heat to Miami Grand Prix 🔥\\n\\nRead our insights and predictions OUT NOW! 🏎️\\n\\n#F1 #Formula1 #RedBull #MaxVerstappen #Ferrari #CL16 #Mercedes #LewisHamilton #McLaren #LandoNorris #MiamiGP\\n\\nhttps://t.co/ZsuTm6aT5J   \n",
       "2  The Miami Grand Prix is almost here and all teams are getting ready for a Sprint Weekend 🏎️🔥\\n\\nRead our insights for this weeks Formula 1 race \\n\\n#F1 #Formula1 #RedBull #MaxVerstappen #Ferrari #CL16 #Mercedes #LewisHamilton #McLaren #LandoNorris #MiamiGP\\n\\nhttps://t.co/39MnA80P6v   \n",
       "3  The Miami Grand Prix is almost here and all teams are getting ready for a Sprint Weekend 🏎️🔥\\n\\nRead our insights for this weeks Formula 1 race \\n\\n#F1 #Formula1 #RedBull #MaxVerstappen #Ferrari #CL16 #Mercedes #LewisHamilton #McLaren #LandoNorris #MiamiGP\\n\\nhttps://t.co/gfXIdIJ1AB   \n",
       "4                                                                                                🎙️#Perez: “We're having a tremendous s eason again. The future looks bright. The #RedBull organization remains strong”    \\n\\n(#F1 press conference)     \\n\\n#MiamiGP https://t.co/h7atbf6sTv   \n",
       "\n",
       "                                                                                                                                                              text_cleaned  \n",
       "0  formula 1 is bringing the heat to miami grand prix \\n\\n can max verstappen win again\\n will the new upgrades for mclaren and mercedes work\\n\\nread our insights out now  \n",
       "1                                                                         formula 1 is bringing the heat to miami grand prix \\n\\nread our insights and predictions out now  \n",
       "2                             the miami grand prix is almost here and all teams are getting ready for a sprint weekend \\n\\nread our insights for this weeks formula 1 race  \n",
       "3                             the miami grand prix is almost here and all teams are getting ready for a sprint weekend \\n\\nread our insights for this weeks formula 1 race  \n",
       "4                                                 were having a tremendous s eason again the future looks bright the  organization remains strong    \\n\\n press conference  "
      ]
     },
     "execution_count": 149,
     "metadata": {},
     "output_type": "execute_result"
    }
   ],
   "source": [
    "df['text_cleaned'] = df['text'].apply(clean_tweet)\n",
    "df['text_cleaned'] = df['text_cleaned'].apply(lower_start_fct)\n",
    "df.head()"
   ]
  },
  {
   "cell_type": "code",
   "execution_count": 150,
   "metadata": {},
   "outputs": [
    {
     "data": {
      "text/plain": [
       "0    formula 1 be bring the heat to miami grand prix \\n\\n  can max verstappen win again \\n  will the new upgrade for mclaren and mercede work \\n\\n read our insight out now\n",
       "1                                                                              formula 1 be bring the heat to miami grand prix \\n\\n read our insight and prediction out now\n",
       "2                                     the miami grand prix be almost here and all team be get ready for a sprint weekend \\n\\n read our insight for this week formula 1 race\n",
       "3                                     the miami grand prix be almost here and all team be get ready for a sprint weekend \\n\\n read our insight for this week formula 1 race\n",
       "4                                                      be have a tremendous s eason again the future look bright the   organization remain strong    \\n\\n  press conference\n",
       "Name: tweet_lemmatized, dtype: object"
      ]
     },
     "execution_count": 150,
     "metadata": {},
     "output_type": "execute_result"
    }
   ],
   "source": [
    "df['tweet_lemmatized'] = df['text_cleaned'].apply(lemma_fct)\n",
    "df['tweet_lemmatized'].head() "
   ]
  },
  {
   "cell_type": "markdown",
   "metadata": {},
   "source": [
    "### 2.2.2 - Tokenization"
   ]
  },
  {
   "cell_type": "code",
   "execution_count": 157,
   "metadata": {},
   "outputs": [
    {
     "data": {
      "text/plain": [
       "0    [prix, mclaren, for, be, bring, work, grand, can, mercede, miami, to, upgrade, now, and, again, insight, out, will, heat, verstappen, formula, read, the, max, 1, new, our, win]\n",
       "1                                                                           [formula, prediction, read, prix, the, miami, be, bring, 1, to, grand, our, and, insight, out, now, heat]\n",
       "2                                  [get, prix, for, be, grand, miami, team, ready, and, almost, this, weekend, insight, a, race, sprint, formula, read, here, the, week, all, our, 1]\n",
       "3                                  [get, prix, for, be, grand, miami, team, ready, and, almost, this, weekend, insight, a, race, sprint, formula, read, here, the, week, all, our, 1]\n",
       "4                                                              [look, again, tremendous, future, bright, remain, strong, press, the, organization, have, s, be, conference, a, eason]\n",
       "Name: tokens, dtype: object"
      ]
     },
     "execution_count": 157,
     "metadata": {},
     "output_type": "execute_result"
    }
   ],
   "source": [
    "# Tokenisation \n",
    "df['tokens'] = df['tweet_lemmatized'].apply(tokenize_tweet)\n",
    "\n",
    "# Garde des mots uniques dans chaque liste\n",
    "df['tokens'] = df['tokens'].apply(lambda x: list(set(x)))\n",
    "df['tokens'].head()"
   ]
  },
  {
   "cell_type": "markdown",
   "metadata": {},
   "source": [
    "### 2.2.3 - Filtre Stopwords"
   ]
  },
  {
   "cell_type": "code",
   "execution_count": 156,
   "metadata": {},
   "outputs": [
    {
     "data": {
      "text/html": [
       "<div>\n",
       "<style scoped>\n",
       "    .dataframe tbody tr th:only-of-type {\n",
       "        vertical-align: middle;\n",
       "    }\n",
       "\n",
       "    .dataframe tbody tr th {\n",
       "        vertical-align: top;\n",
       "    }\n",
       "\n",
       "    .dataframe thead th {\n",
       "        text-align: right;\n",
       "    }\n",
       "</style>\n",
       "<table border=\"1\" class=\"dataframe\">\n",
       "  <thead>\n",
       "    <tr style=\"text-align: right;\">\n",
       "      <th></th>\n",
       "      <th>text</th>\n",
       "      <th>text_cleaned</th>\n",
       "      <th>tweet_lemmatized</th>\n",
       "      <th>tokens</th>\n",
       "      <th>filtered_tokens</th>\n",
       "    </tr>\n",
       "  </thead>\n",
       "  <tbody>\n",
       "    <tr>\n",
       "      <th>0</th>\n",
       "      <td>Formula 1 is bringing the heat to Miami Grand Prix 🔥\\n\\n🏎️ Can Max Verstappen win again?\\n🏎️ Will the new upgrades for McLaren and Mercedes work?\\n\\nRead our insights OUT NOW!\\n\\n#F1 #Formula1 #RedBull #Ferrari #CL16 #LewisHamilton #LandoNorris #MiamiGP\\n\\nhttps://t.co/tNar0iwflY</td>\n",
       "      <td>formula 1 is bringing the heat to miami grand prix \\n\\n can max verstappen win again\\n will the new upgrades for mclaren and mercedes work\\n\\nread our insights out now</td>\n",
       "      <td>formula 1 be bring the heat to miami grand prix \\n\\n  can max verstappen win again \\n  will the new upgrade for mclaren and mercede work \\n\\n read our insight out now</td>\n",
       "      <td>[prix, mclaren, for, be, bring, work, grand, can, mercede, miami, to, upgrade, now, and, again, insight, out, will, heat, verstappen, formula, read, the, max, 1, new, our, win]</td>\n",
       "      <td>[prix, mclaren, bring, work, grand, mercede, miami, upgrade, insight, heat, verstappen, formula, read, max, 1, new, win]</td>\n",
       "    </tr>\n",
       "    <tr>\n",
       "      <th>1</th>\n",
       "      <td>Formula 1 is bringing the heat to Miami Grand Prix 🔥\\n\\nRead our insights and predictions OUT NOW! 🏎️\\n\\n#F1 #Formula1 #RedBull #MaxVerstappen #Ferrari #CL16 #Mercedes #LewisHamilton #McLaren #LandoNorris #MiamiGP\\n\\nhttps://t.co/ZsuTm6aT5J</td>\n",
       "      <td>formula 1 is bringing the heat to miami grand prix \\n\\nread our insights and predictions out now</td>\n",
       "      <td>formula 1 be bring the heat to miami grand prix \\n\\n read our insight and prediction out now</td>\n",
       "      <td>[formula, prediction, read, prix, and, the, miami, be, bring, 1, to, grand, our, insight, out, now, heat]</td>\n",
       "      <td>[formula, prediction, read, prix, miami, bring, 1, grand, insight, heat]</td>\n",
       "    </tr>\n",
       "    <tr>\n",
       "      <th>2</th>\n",
       "      <td>The Miami Grand Prix is almost here and all teams are getting ready for a Sprint Weekend 🏎️🔥\\n\\nRead our insights for this weeks Formula 1 race \\n\\n#F1 #Formula1 #RedBull #MaxVerstappen #Ferrari #CL16 #Mercedes #LewisHamilton #McLaren #LandoNorris #MiamiGP\\n\\nhttps://t.co/39MnA80P6v</td>\n",
       "      <td>the miami grand prix is almost here and all teams are getting ready for a sprint weekend \\n\\nread our insights for this weeks formula 1 race</td>\n",
       "      <td>the miami grand prix be almost here and all team be get ready for a sprint weekend \\n\\n read our insight for this week formula 1 race</td>\n",
       "      <td>[get, prix, for, be, grand, miami, team, ready, and, almost, this, weekend, insight, a, race, sprint, formula, read, here, the, week, all, our, 1]</td>\n",
       "      <td>[get, prix, grand, miami, team, ready, almost, weekend, insight, race, sprint, formula, read, week, 1]</td>\n",
       "    </tr>\n",
       "    <tr>\n",
       "      <th>3</th>\n",
       "      <td>The Miami Grand Prix is almost here and all teams are getting ready for a Sprint Weekend 🏎️🔥\\n\\nRead our insights for this weeks Formula 1 race \\n\\n#F1 #Formula1 #RedBull #MaxVerstappen #Ferrari #CL16 #Mercedes #LewisHamilton #McLaren #LandoNorris #MiamiGP\\n\\nhttps://t.co/gfXIdIJ1AB</td>\n",
       "      <td>the miami grand prix is almost here and all teams are getting ready for a sprint weekend \\n\\nread our insights for this weeks formula 1 race</td>\n",
       "      <td>the miami grand prix be almost here and all team be get ready for a sprint weekend \\n\\n read our insight for this week formula 1 race</td>\n",
       "      <td>[get, prix, for, be, grand, miami, team, ready, and, almost, this, weekend, insight, a, race, sprint, formula, read, here, the, week, all, our, 1]</td>\n",
       "      <td>[get, prix, grand, miami, team, ready, almost, weekend, insight, race, sprint, formula, read, week, 1]</td>\n",
       "    </tr>\n",
       "    <tr>\n",
       "      <th>4</th>\n",
       "      <td>🎙️#Perez: “We're having a tremendous s eason again. The future looks bright. The #RedBull organization remains strong”    \\n\\n(#F1 press conference)     \\n\\n#MiamiGP https://t.co/h7atbf6sTv</td>\n",
       "      <td>were having a tremendous s eason again the future looks bright the  organization remains strong    \\n\\n press conference</td>\n",
       "      <td>be have a tremendous s eason again the future look bright the   organization remain strong    \\n\\n  press conference</td>\n",
       "      <td>[again, tremendous, look, future, bright, remain, strong, press, the, organization, have, s, be, conference, a, eason]</td>\n",
       "      <td>[tremendous, look, future, bright, remain, strong, press, organization, conference, eason]</td>\n",
       "    </tr>\n",
       "    <tr>\n",
       "      <th>5</th>\n",
       "      <td>🎙️#Perez: “#Newey? It isn't ideal when someone like Adrian leaves. He spent 20 years at #RedBull, he probably he wants to do something else. Red Bull has a very strong organiziation. It isn't down to one individual. #Horner is ready”    \\n\\n(#F1 press conference)     \\n\\n#MiamiGP https://t.co/t8c5Ltl6Oc</td>\n",
       "      <td>it isnt ideal when someone like adrian leaves he spent 20 years at  he probably he wants to do something else red bull has a very strong organiziation it isnt down to one individual  is ready    \\n\\n press conference</td>\n",
       "      <td>it be not ideal when someone like adrian leave he spend 20 year at   he probably he want to do something else red bull have a very strong organiziation it be not down to one individual   be ready    \\n\\n  press conference</td>\n",
       "      <td>[year, one, adrian, down, want, be, bull, probably, red, something, else, individual, at, he, strong, it, to, ready, like, leave, have, when, a, very, do, press, ideal, 20, not, spend, conference, someone, organiziation]</td>\n",
       "      <td>[year, one, adrian, want, bull, probably, red, something, else, individual, strong, ready, like, leave, press, ideal, 20, spend, conference, someone, organiziation]</td>\n",
       "    </tr>\n",
       "    <tr>\n",
       "      <th>6</th>\n",
       "      <td>#F1 2016, #RedBull TAG Heuer RB12 V6-Turbo, Max Verstappen. The beginning of something special #MiamiGP https://t.co/toAxZecQJ5</td>\n",
       "      <td>2016  tag heuer rb12 v6turbo max verstappen the beginning of something special</td>\n",
       "      <td>2016   tag heuer rb12 v6turbo max verstappen the beginning of something special</td>\n",
       "      <td>[of, something, heuer, rb12, the, v6turbo, special, max, 2016, beginning, tag, verstappen]</td>\n",
       "      <td>[something, heuer, rb12, v6turbo, special, max, 2016, beginning, tag, verstappen]</td>\n",
       "    </tr>\n",
       "    <tr>\n",
       "      <th>7</th>\n",
       "      <td>Here we go #F1 #AdrianNewey #RedBull\\n\\nhttps://t.co/X8w2kwuGlE</td>\n",
       "      <td>here we go</td>\n",
       "      <td>here we go</td>\n",
       "      <td>[go, here, we]</td>\n",
       "      <td>[go]</td>\n",
       "    </tr>\n",
       "    <tr>\n",
       "      <th>8</th>\n",
       "      <td>Here are the different RW configurations brought by the teams. \\n\\n#Ferrari It remains with the same configuration, it will be worth seeing the incidence of BW! \\n\\n#RedBull Excellent efficiency of DRS + little drag \\n\\n(📸 @AlbertFabrega)\\n#f1 #formula1 #MiamiGP https://t.co/7sVMxeBFEa</td>\n",
       "      <td>here are the different rw configurations brought by the teams \\n\\n it remains with the same configuration it will be worth seeing the incidence of bw \\n\\n excellent efficiency of drs  little drag</td>\n",
       "      <td>here be the different rw configuration bring by the team \\n\\n  it remain with the same configuration it will be worth see the incidence of bw \\n\\n  excellent efficiency of drs   little drag</td>\n",
       "      <td>[little, be, bring, see, worth, efficiency, same, of, configuration, by, remain, it, bw, team, different, with, drs, rw, will, excellent, here, the, incidence, drag]</td>\n",
       "      <td>[little, bring, see, worth, efficiency, configuration, remain, bw, team, different, drs, rw, excellent, incidence, drag]</td>\n",
       "    </tr>\n",
       "    <tr>\n",
       "      <th>9</th>\n",
       "      <td>Max Verstappen chez Mercedes !!!\\n\\nDes sources autrichiennes affirment que l' équipe Mercedes  préparerai une Offre\\nde 128 millions de livres sterling par an .\\nPrès de 150M€… \\nà la suite  sur Fb F1access\\n#maxverstappen #F1 #RedBull #MercedesBenz #MiamiGP https://t.co/L0NaFJQDVa</td>\n",
       "      <td>max verstappen chez mercedes \\n\\ndes sources autrichiennes affirment que l équipe mercedes  préparerai une offre\\nde 128 millions de livres sterling par an \\nprès de 150m \\nà la suite  sur fb f1access</td>\n",
       "      <td>max verstappen chez mercede \\n\\n des source autrichienne affirment que l équipe mercede   préparerai une offre \\n de 128 million de livre sterling par an \\n près de 150 m \\n à la suite   sur fb f1access</td>\n",
       "      <td>[source, chez, préparerai, des, livre, f1access, sur, mercede, l, la, à, million, autrichienne, m, affirment, 128, près, sterling, 150, offre, suite, fb, équipe, de, verstappen, max, que, an, une, par]</td>\n",
       "      <td>[source, chez, préparerai, livre, f1access, mercede, million, autrichienne, affirment, 128, près, sterling, 150, offre, suite, fb, équipe, verstappen, max]</td>\n",
       "    </tr>\n",
       "  </tbody>\n",
       "</table>\n",
       "</div>"
      ],
      "text/plain": [
       "                                                                                                                                                                                                                                                                                                               text  \\\n",
       "0                          Formula 1 is bringing the heat to Miami Grand Prix 🔥\\n\\n🏎️ Can Max Verstappen win again?\\n🏎️ Will the new upgrades for McLaren and Mercedes work?\\n\\nRead our insights OUT NOW!\\n\\n#F1 #Formula1 #RedBull #Ferrari #CL16 #LewisHamilton #LandoNorris #MiamiGP\\n\\nhttps://t.co/tNar0iwflY   \n",
       "1                                                                  Formula 1 is bringing the heat to Miami Grand Prix 🔥\\n\\nRead our insights and predictions OUT NOW! 🏎️\\n\\n#F1 #Formula1 #RedBull #MaxVerstappen #Ferrari #CL16 #Mercedes #LewisHamilton #McLaren #LandoNorris #MiamiGP\\n\\nhttps://t.co/ZsuTm6aT5J   \n",
       "2                       The Miami Grand Prix is almost here and all teams are getting ready for a Sprint Weekend 🏎️🔥\\n\\nRead our insights for this weeks Formula 1 race \\n\\n#F1 #Formula1 #RedBull #MaxVerstappen #Ferrari #CL16 #Mercedes #LewisHamilton #McLaren #LandoNorris #MiamiGP\\n\\nhttps://t.co/39MnA80P6v   \n",
       "3                       The Miami Grand Prix is almost here and all teams are getting ready for a Sprint Weekend 🏎️🔥\\n\\nRead our insights for this weeks Formula 1 race \\n\\n#F1 #Formula1 #RedBull #MaxVerstappen #Ferrari #CL16 #Mercedes #LewisHamilton #McLaren #LandoNorris #MiamiGP\\n\\nhttps://t.co/gfXIdIJ1AB   \n",
       "4                                                                                                                     🎙️#Perez: “We're having a tremendous s eason again. The future looks bright. The #RedBull organization remains strong”    \\n\\n(#F1 press conference)     \\n\\n#MiamiGP https://t.co/h7atbf6sTv   \n",
       "5  🎙️#Perez: “#Newey? It isn't ideal when someone like Adrian leaves. He spent 20 years at #RedBull, he probably he wants to do something else. Red Bull has a very strong organiziation. It isn't down to one individual. #Horner is ready”    \\n\\n(#F1 press conference)     \\n\\n#MiamiGP https://t.co/t8c5Ltl6Oc   \n",
       "6                                                                                                                                                                                   #F1 2016, #RedBull TAG Heuer RB12 V6-Turbo, Max Verstappen. The beginning of something special #MiamiGP https://t.co/toAxZecQJ5   \n",
       "7                                                                                                                                                                                                                                                   Here we go #F1 #AdrianNewey #RedBull\\n\\nhttps://t.co/X8w2kwuGlE   \n",
       "8                    Here are the different RW configurations brought by the teams. \\n\\n#Ferrari It remains with the same configuration, it will be worth seeing the incidence of BW! \\n\\n#RedBull Excellent efficiency of DRS + little drag \\n\\n(📸 @AlbertFabrega)\\n#f1 #formula1 #MiamiGP https://t.co/7sVMxeBFEa   \n",
       "9                       Max Verstappen chez Mercedes !!!\\n\\nDes sources autrichiennes affirment que l' équipe Mercedes  préparerai une Offre\\nde 128 millions de livres sterling par an .\\nPrès de 150M€… \\nà la suite  sur Fb F1access\\n#maxverstappen #F1 #RedBull #MercedesBenz #MiamiGP https://t.co/L0NaFJQDVa   \n",
       "\n",
       "                                                                                                                                                                                                               text_cleaned  \\\n",
       "0                                                   formula 1 is bringing the heat to miami grand prix \\n\\n can max verstappen win again\\n will the new upgrades for mclaren and mercedes work\\n\\nread our insights out now   \n",
       "1                                                                                                                          formula 1 is bringing the heat to miami grand prix \\n\\nread our insights and predictions out now   \n",
       "2                                                                              the miami grand prix is almost here and all teams are getting ready for a sprint weekend \\n\\nread our insights for this weeks formula 1 race   \n",
       "3                                                                              the miami grand prix is almost here and all teams are getting ready for a sprint weekend \\n\\nread our insights for this weeks formula 1 race   \n",
       "4                                                                                                  were having a tremendous s eason again the future looks bright the  organization remains strong    \\n\\n press conference   \n",
       "5  it isnt ideal when someone like adrian leaves he spent 20 years at  he probably he wants to do something else red bull has a very strong organiziation it isnt down to one individual  is ready    \\n\\n press conference   \n",
       "6                                                                                                                                            2016  tag heuer rb12 v6turbo max verstappen the beginning of something special   \n",
       "7                                                                                                                                                                                                                here we go   \n",
       "8                       here are the different rw configurations brought by the teams \\n\\n it remains with the same configuration it will be worth seeing the incidence of bw \\n\\n excellent efficiency of drs  little drag   \n",
       "9                  max verstappen chez mercedes \\n\\ndes sources autrichiennes affirment que l équipe mercedes  préparerai une offre\\nde 128 millions de livres sterling par an \\nprès de 150m \\nà la suite  sur fb f1access   \n",
       "\n",
       "                                                                                                                                                                                                                tweet_lemmatized  \\\n",
       "0                                                         formula 1 be bring the heat to miami grand prix \\n\\n  can max verstappen win again \\n  will the new upgrade for mclaren and mercede work \\n\\n read our insight out now   \n",
       "1                                                                                                                                   formula 1 be bring the heat to miami grand prix \\n\\n read our insight and prediction out now   \n",
       "2                                                                                          the miami grand prix be almost here and all team be get ready for a sprint weekend \\n\\n read our insight for this week formula 1 race   \n",
       "3                                                                                          the miami grand prix be almost here and all team be get ready for a sprint weekend \\n\\n read our insight for this week formula 1 race   \n",
       "4                                                                                                           be have a tremendous s eason again the future look bright the   organization remain strong    \\n\\n  press conference   \n",
       "5  it be not ideal when someone like adrian leave he spend 20 year at   he probably he want to do something else red bull have a very strong organiziation it be not down to one individual   be ready    \\n\\n  press conference   \n",
       "6                                                                                                                                                2016   tag heuer rb12 v6turbo max verstappen the beginning of something special   \n",
       "7                                                                                                                                                                                                                     here we go   \n",
       "8                                  here be the different rw configuration bring by the team \\n\\n  it remain with the same configuration it will be worth see the incidence of bw \\n\\n  excellent efficiency of drs   little drag   \n",
       "9                     max verstappen chez mercede \\n\\n des source autrichienne affirment que l équipe mercede   préparerai une offre \\n de 128 million de livre sterling par an \\n près de 150 m \\n à la suite   sur fb f1access   \n",
       "\n",
       "                                                                                                                                                                                                                         tokens  \\\n",
       "0                                              [prix, mclaren, for, be, bring, work, grand, can, mercede, miami, to, upgrade, now, and, again, insight, out, will, heat, verstappen, formula, read, the, max, 1, new, our, win]   \n",
       "1                                                                                                                     [formula, prediction, read, prix, and, the, miami, be, bring, 1, to, grand, our, insight, out, now, heat]   \n",
       "2                                                                            [get, prix, for, be, grand, miami, team, ready, and, almost, this, weekend, insight, a, race, sprint, formula, read, here, the, week, all, our, 1]   \n",
       "3                                                                            [get, prix, for, be, grand, miami, team, ready, and, almost, this, weekend, insight, a, race, sprint, formula, read, here, the, week, all, our, 1]   \n",
       "4                                                                                                        [again, tremendous, look, future, bright, remain, strong, press, the, organization, have, s, be, conference, a, eason]   \n",
       "5  [year, one, adrian, down, want, be, bull, probably, red, something, else, individual, at, he, strong, it, to, ready, like, leave, have, when, a, very, do, press, ideal, 20, not, spend, conference, someone, organiziation]   \n",
       "6                                                                                                                                    [of, something, heuer, rb12, the, v6turbo, special, max, 2016, beginning, tag, verstappen]   \n",
       "7                                                                                                                                                                                                                [go, here, we]   \n",
       "8                                                         [little, be, bring, see, worth, efficiency, same, of, configuration, by, remain, it, bw, team, different, with, drs, rw, will, excellent, here, the, incidence, drag]   \n",
       "9                     [source, chez, préparerai, des, livre, f1access, sur, mercede, l, la, à, million, autrichienne, m, affirment, 128, près, sterling, 150, offre, suite, fb, équipe, de, verstappen, max, que, an, une, par]   \n",
       "\n",
       "                                                                                                                                                        filtered_tokens  \n",
       "0                                              [prix, mclaren, bring, work, grand, mercede, miami, upgrade, insight, heat, verstappen, formula, read, max, 1, new, win]  \n",
       "1                                                                                              [formula, prediction, read, prix, miami, bring, 1, grand, insight, heat]  \n",
       "2                                                                [get, prix, grand, miami, team, ready, almost, weekend, insight, race, sprint, formula, read, week, 1]  \n",
       "3                                                                [get, prix, grand, miami, team, ready, almost, weekend, insight, race, sprint, formula, read, week, 1]  \n",
       "4                                                                            [tremendous, look, future, bright, remain, strong, press, organization, conference, eason]  \n",
       "5  [year, one, adrian, want, bull, probably, red, something, else, individual, strong, ready, like, leave, press, ideal, 20, spend, conference, someone, organiziation]  \n",
       "6                                                                                     [something, heuer, rb12, v6turbo, special, max, 2016, beginning, tag, verstappen]  \n",
       "7                                                                                                                                                                  [go]  \n",
       "8                                              [little, bring, see, worth, efficiency, configuration, remain, bw, team, different, drs, rw, excellent, incidence, drag]  \n",
       "9           [source, chez, préparerai, livre, f1access, mercede, million, autrichienne, affirment, 128, près, sterling, 150, offre, suite, fb, équipe, verstappen, max]  "
      ]
     },
     "execution_count": 156,
     "metadata": {},
     "output_type": "execute_result"
    }
   ],
   "source": [
    "df['filtered_tokens'] = df['tokens'].apply(remove_stopwords)\n",
    "df.head(10)"
   ]
  },
  {
   "cell_type": "code",
   "execution_count": 158,
   "metadata": {},
   "outputs": [
    {
     "name": "stdout",
     "output_type": "stream",
     "text": [
      "Données enregistrées dans filtered_tweets.csv\n"
     ]
    }
   ],
   "source": [
    "# Saving the DataFrame as a CSV file\n",
    "df.to_csv(\"data/filtered_tweets.csv\", index=False)\n",
    "print(\"Données enregistrées dans filtered_tweets.csv\")"
   ]
  }
 ],
 "metadata": {
  "kernelspec": {
   "display_name": "venv",
   "language": "python",
   "name": "python3"
  },
  "language_info": {
   "codemirror_mode": {
    "name": "ipython",
    "version": 3
   },
   "file_extension": ".py",
   "mimetype": "text/x-python",
   "name": "python",
   "nbconvert_exporter": "python",
   "pygments_lexer": "ipython3",
   "version": "3.12.0"
  }
 },
 "nbformat": 4,
 "nbformat_minor": 2
}
